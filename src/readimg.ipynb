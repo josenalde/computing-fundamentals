{
 "cells": [
  {
   "cell_type": "code",
   "execution_count": 5,
   "id": "curious-georgia",
   "metadata": {},
   "outputs": [
    {
     "name": "stdout",
     "output_type": "stream",
     "text": [
      "Requirement already satisfied: opencv-python in c:\\users\\josen\\anaconda3\\lib\\site-packages (4.5.3.56)\n",
      "Requirement already satisfied: numpy>=1.17.3 in c:\\users\\josen\\anaconda3\\lib\\site-packages (from opencv-python) (1.19.2)\n",
      "<class 'numpy.ndarray'>\n",
      "(1000, 1000, 3)\n"
     ]
    }
   ],
   "source": [
    "\"\"\"\n",
    "Created on Thu Sep 17 12:02:12 2020\n",
    "@author: Josenalde\n",
    "\"\"\"\n",
    "!pip install opencv-python\n",
    "import cv2 as cv\n",
    "import numpy as np\n",
    "img = cv.imread('abaco.jpg')\n",
    "print(type(img))\n",
    "print(img.shape)\n",
    "imgG = cv.cvtColor(img, cv.COLOR_BGR2GRAY)\n",
    "cv.imshow('TAD0001 - Teste de leitura de imagem', imgG)\n",
    "cv.waitKey(0)\n",
    "cv.destroyAllWindows()"
   ]
  },
  {
   "cell_type": "code",
   "execution_count": 11,
   "id": "standard-console",
   "metadata": {},
   "outputs": [
    {
     "data": {
      "text/plain": [
       "array([[255, 255, 255, ..., 255, 255, 255],\n",
       "       [255, 255, 255, ..., 255, 255, 255],\n",
       "       [255, 255, 255, ..., 255, 255, 255],\n",
       "       ...,\n",
       "       [255, 255, 255, ..., 255, 255, 255],\n",
       "       [255, 255, 255, ..., 255, 255, 255],\n",
       "       [255, 255, 255, ..., 255, 255, 255]], dtype=uint8)"
      ]
     },
     "execution_count": 11,
     "metadata": {},
     "output_type": "execute_result"
    }
   ],
   "source": [
    "img[:,:,1]"
   ]
  }
 ],
 "metadata": {
  "kernelspec": {
   "display_name": "Python 3",
   "language": "python",
   "name": "python3"
  },
  "language_info": {
   "codemirror_mode": {
    "name": "ipython",
    "version": 3
   },
   "file_extension": ".py",
   "mimetype": "text/x-python",
   "name": "python",
   "nbconvert_exporter": "python",
   "pygments_lexer": "ipython3",
   "version": "3.8.5"
  }
 },
 "nbformat": 4,
 "nbformat_minor": 5
}
